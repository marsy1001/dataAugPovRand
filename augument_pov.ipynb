{
 "cells": [
  {
   "cell_type": "code",
   "execution_count": null,
   "id": "fa34fac9-78ca-4860-902d-60cb13272769",
   "metadata": {
    "tags": []
   },
   "outputs": [],
   "source": [
    "%pip install openai\n",
    "%pip install python-dotenv"
   ]
  },
  {
   "cell_type": "markdown",
   "id": "1b2fcb9a-4239-4dc0-a09a-d077cf1ec317",
   "metadata": {
    "tags": []
   },
   "source": [
    "# AOAI利用準備"
   ]
  },
  {
   "cell_type": "code",
   "execution_count": null,
   "id": "9cc6f537-a1f5-42d9-b693-0725b96934f1",
   "metadata": {
    "tags": []
   },
   "outputs": [],
   "source": [
    "import os\n",
    "from dotenv import load_dotenv\n",
    "import openai\n",
    "\n",
    "load_dotenv()\n",
    "\n",
    "openai.api_type = os.getenv(\"OPENAI_API_TYPE\")\n",
    "openai.api_version = os.getenv(\"OPENAI_API_VERSION\")\n",
    "openai.api_base = os.getenv(\"OPENAI_API_BASE\")\n",
    "openai.api_key = os.getenv(\"OPENAI_API_KEY\")\n",
    "\n",
    "engine = os.getenv(\"DEPLOYMENT_NAME\")"
   ]
  },
  {
   "cell_type": "code",
   "execution_count": null,
   "id": "1af55a9e-8b47-4253-a601-ad10288a1a6c",
   "metadata": {
    "tags": []
   },
   "outputs": [],
   "source": [
    "engine"
   ]
  },
  {
   "cell_type": "code",
   "execution_count": null,
   "id": "e8a11c62-73fc-4bac-ab2c-2b9c3629a700",
   "metadata": {
    "tags": []
   },
   "outputs": [],
   "source": [
    "openai.api_version"
   ]
  },
  {
   "cell_type": "markdown",
   "id": "71154198-58d1-4625-bfac-6a3e00b61e92",
   "metadata": {},
   "source": [
    "# 関数定義"
   ]
  },
  {
   "cell_type": "markdown",
   "id": "35ade5e5-b080-43dc-9db1-eb16b512922c",
   "metadata": {
    "tags": []
   },
   "source": [
    "## 並列リクエスト関数"
   ]
  },
  {
   "cell_type": "code",
   "execution_count": null,
   "id": "34a8b566-ca7b-4566-867a-14fa1d10e9e8",
   "metadata": {},
   "outputs": [],
   "source": [
    "import ray\n",
    "import json\n",
    "import openai\n",
    "import time\n",
    "import random\n",
    "import re\n",
    "\n",
    "from retrying import retry\n",
    "import multiprocessing\n",
    "\n",
    "from openai import AzureOpenAI\n",
    "from dotenv import load_dotenv\n",
    "\n",
    "import os\n",
    "\n",
    "@retry(stop_max_attempt_number=10, wait_fixed=3000)\n",
    "@ray.remote\n",
    "def unit_AOAI_FC(env_info, index, func_type, tools, prompt, example):\n",
    "    # clientの作成\n",
    "    client = AzureOpenAI(\n",
    "      azure_endpoint=env_info[\"endpoint\"],  \n",
    "      api_key=env_info[\"api_key\"],  \n",
    "      api_version = env_info[\"api_version\"]\n",
    "    )\n",
    "    # プロンプトの埋込、作成\n",
    "    content = prompt.format_map(example)\n",
    "    messages= [\n",
    "        {\"role\": \"system\", \"content\": content}\n",
    "    ]\n",
    "    \n",
    "    try:\n",
    "        # APIへのリクエスト\n",
    "        response = client.chat.completions.create(\n",
    "            model=env_info[\"engine\"],\n",
    "            messages=messages,\n",
    "            tools=tools,\n",
    "            tool_choice={\"type\": \"function\", \"function\": {\"name\": f\"aug_{func_type}\"}}\n",
    "        )\n",
    "        \n",
    "        response_message = response.choices[0].message\n",
    "        augdata = json.loads(response_message.tool_calls[0].function.arguments)\n",
    "        \n",
    "        return 0, augdata[func_type], index, example\n",
    "    \n",
    "    except:\n",
    "        return 1, \"ERROR\", index, example\n",
    "\n",
    "def multiRequestProcAOAI_FC(func_type, prompt, tools, examples):\n",
    "    results = []\n",
    "    aug_data = []\n",
    "    index = []\n",
    "    input_examples = []\n",
    "    \n",
    "    # func_name = \"aug_\" + func_type\n",
    "    \n",
    "    # AOAI設定情報のロード\n",
    "    load_dotenv()\n",
    "    \n",
    "    env_info = {\n",
    "        \"endpoint\" : os.getenv(\"OPENAI_API_BASE\"),\n",
    "        \"api_key\" : os.getenv(\"OPENAI_API_KEY\"),\n",
    "        \"api_version\" : os.getenv(\"OPENAI_API_VERSION\"),\n",
    "        \"engine\" : os.getenv(\"DEPLOYMENT_NAME\")\n",
    "    }\n",
    "    print(env_info[\"api_version\"])\n",
    "    \n",
    "    # 並列処理情報定義\n",
    "    cpu_nums = multiprocessing.cpu_count()\n",
    "    print(f\"Parallel Node:{cpu_nums}\")\n",
    "    ray.init(num_cpus=cpu_nums, ignore_reinit_error=True)\n",
    "    \n",
    "    proc_start_time = time.time()\n",
    "    \n",
    "    # 分散処理開始\n",
    "    batch_size = 30\n",
    "    for i in range(0, len(examples), batch_size):\n",
    "        batches = examples[i:i + batch_size]\n",
    "        index_list = [i for i in range(i, i + batch_size)]\n",
    "        \n",
    "        start_time = time.time()\n",
    "        for index, batch in zip(index_list, batches):\n",
    "            results.append(unit_AOAI_FC.remote(env_info, index, func_type, tools, prompt, batch))\n",
    "        \n",
    "        elapsed = time.time() - start_time\n",
    "        print(f\"batch:{i+1}~{i+batch_size} elapsed_time:{elapsed}\")\n",
    "        \n",
    "        # バッチ毎に60秒間隔を開けてトークンレート制限を回避\n",
    "        used_time = time.time() - start_time\n",
    "        \n",
    "        # 繰り返しのラストはsleepさせない\n",
    "        if i + batch_size >= len(examples):\n",
    "            break\n",
    "        else:\n",
    "            print(f\"sleeptime:{60 - used_time}\")\n",
    "            time.sleep(60 - used_time)\n",
    "        \n",
    "    # 結果取得\n",
    "    results = ray.get(results)\n",
    "\n",
    "    aug_data = [res[1] for res in results if res[1] is not None]\n",
    "    index = [res[2] for res in results if res[2] is not None]\n",
    "    input_examples = [res[3] for res in results if res[3] is not None]\n",
    "\n",
    "    ray.shutdown()\n",
    "    \n",
    "    print(\"all processed time:\", time.time() -  proc_start_time)\n",
    "\n",
    "    return aug_data, index, input_examples"
   ]
  },
  {
   "cell_type": "markdown",
   "id": "0c072719-0d94-4633-bd1c-0a7757deddbd",
   "metadata": {
    "tags": []
   },
   "source": [
    "## PDF分割、テキスト抽出関数"
   ]
  },
  {
   "cell_type": "code",
   "execution_count": null,
   "id": "59459868-92b3-4ca5-9c44-e7dd90ef7b02",
   "metadata": {},
   "outputs": [],
   "source": [
    "import os\n",
    "from PyPDF2 import PdfReader, PdfWriter\n",
    "from pdfminer.high_level import extract_text\n",
    "\n",
    "def split_pdf(pdf_filename):\n",
    "    car_category = pdf_filename.split(\"_\")[0]\n",
    "    output_folder = f'input/{car_category}'\n",
    "\n",
    "    # 保存先（車種）のディレクトリがなければ作成\n",
    "    if not os.path.exists(output_folder):\n",
    "        os.makedirs(output_folder)\n",
    "    \n",
    "    pdf = PdfReader(pdf_filename)\n",
    "    for page in range(len(pdf.pages)):\n",
    "        pdf_writer = PdfWriter()\n",
    "        pdf_writer.add_page(pdf.pages[page])\n",
    "\n",
    "        output = f'{output_folder}/{car_category}_{str(page).zfill(3)}.pdf'\n",
    "        with open(output, 'wb') as output_pdf:\n",
    "            pdf_writer.write(output_pdf)\n",
    "\n",
    "def extract_text_from_pdf(pdf_filename):\n",
    "    return extract_text(pdf_filename)"
   ]
  },
  {
   "cell_type": "markdown",
   "id": "6daa812a-5c7e-410f-b45f-465c50f183ee",
   "metadata": {
    "tags": []
   },
   "source": [
    "## データ作成関数定義"
   ]
  },
  {
   "cell_type": "code",
   "execution_count": null,
   "id": "ae0f42df-33fe-4059-8b7b-6e3095445fdf",
   "metadata": {},
   "outputs": [],
   "source": [
    "import glob\n",
    "import os\n",
    "import pandas as pd\n",
    "\n",
    "import re\n",
    "\n",
    "def make_examples(target_company, aug_q=True, target_qfile=None, key_name=None):\n",
    "    # Sample Execution Example\n",
    "    # Q拡張時のサンプル\n",
    "    # examples = make_examples(target_company=\"dummy\")\n",
    "    # A拡張時のサンプル\n",
    "    # examples = make_examples(target_company=\"dummy\", aug_q=False, target_qfile=\"dummy_questions\", key_name=\"questions\")\n",
    "    \n",
    "    if aug_q == True:\n",
    "        print(\"OK!\")\n",
    "        print(\"start to augment questions\")\n",
    "        df_qcategory = pd.read_csv(\"seed_q.csv\",sep=\"\\t\")\n",
    "    \n",
    "    elif aug_q == False:\n",
    "        if target_qfile is None or key_name is None:\n",
    "            print(\"NG!\")\n",
    "            print(\"Please set target_qfile or key_name or both!!!\")\n",
    "            return None\n",
    "        else:\n",
    "            print(\"OK!\")\n",
    "            print(\"start to augment answers\")\n",
    "            augedQ_df = pd.read_csv(f\"output/{target_qfile}.csv\", sep=\"\\t\")\n",
    "\n",
    "    company = target_company\n",
    "\n",
    "    df_car = pd.read_csv(\"manual_list.csv\", sep=\"\\t\")\n",
    "    df_car_filtered = df_car[df_car[\"company\"] == company]\n",
    "        \n",
    "\n",
    "    # ディレクトリのパスを指定（例：'/path/to/directory'）\n",
    "    directory = f'input/{company}'\n",
    "\n",
    "    start_page = int(df_car_filtered['startpage'].iloc[0])\n",
    "    end_page = int(df_car_filtered['endpage'].iloc[0])\n",
    "\n",
    "    print(start_page)\n",
    "    print(end_page)\n",
    "\n",
    "    # 指定されたパターンに一致するファイル名のリストを取得\n",
    "    file_pattern = os.path.join(directory, f'{company}_*.pdf')\n",
    "    files = glob.glob(file_pattern)\n",
    "\n",
    "    examples = []\n",
    "    \n",
    "    # 各ファイルに対してループ\n",
    "    for i, file_path in enumerate(files):\n",
    "        # ここで各ファイルに対する処理を実行\n",
    "        if i < start_page or i > end_page:\n",
    "            continue\n",
    "\n",
    "        else:\n",
    "            tmp_dict = {}\n",
    "            # print(file_path)\n",
    "            # PDFテキストの取得\n",
    "            page_detail = extract_text_from_pdf(file_path).replace(\"\\n\", \"\")\n",
    "            page_detail = re.sub(r'\\(cid:\\d+\\)', '', page_detail)\n",
    "            \n",
    "            # Q拡張の場合\n",
    "            if aug_q == True:\n",
    "                sample_df = df_qcategory.sample(n=10)\n",
    "                combined_values = [data[\"type\"] + \" | \" + data[\"seed_q\"] for i,data in sample_df.iterrows()]\n",
    "                tmp_dict = {\n",
    "                    \"manual\" : page_detail,\n",
    "                    **{\"perspective_\"+str(j+1) : combined_values[j] for j in range(10)}\n",
    "                }\n",
    "                \n",
    "            # それ以外の場合    \n",
    "            else:\n",
    "                # ページ数とインデックスの差分を吸収\n",
    "                index = i - start_page\n",
    "                filtered_df = augedQ_df[augedQ_df['index'] == index]\n",
    "                \n",
    "                # ERRORや10件未満のQは無視\n",
    "                if len(filtered_df) == 10:\n",
    "                    emb_data = filtered_df[key_name].to_list()\n",
    "                    tmp_dict = {\n",
    "                        \"manual\" : page_detail,\n",
    "                        **{key_name+\"_\"+str(j+1) : emb_data[j] for j in range(10)}\n",
    "                    }\n",
    "                    \n",
    "                else:\n",
    "                    continue\n",
    "                    \n",
    "            examples.append(tmp_dict)\n",
    "    \n",
    "    return examples\n",
    "        "
   ]
  },
  {
   "cell_type": "markdown",
   "id": "8cb10c88-07fa-4244-840b-2c5b9909ad3e",
   "metadata": {},
   "source": [
    "# 定数"
   ]
  },
  {
   "cell_type": "markdown",
   "id": "6ddbc81f-b301-48fc-b9ea-930977d62fd2",
   "metadata": {
    "tags": []
   },
   "source": [
    "## リクエスト用定数"
   ]
  },
  {
   "cell_type": "code",
   "execution_count": null,
   "id": "8b57c263-ee57-446e-baaf-c4a883dc472e",
   "metadata": {},
   "outputs": [],
   "source": [
    "TOOLS = [\n",
    "    {\n",
    "        \"type\": \"function\",\n",
    "        \"function\": {\n",
    "            \"name\": \"aug_questions\",\n",
    "            \"description\": \"拡張生成した10個のQuestionが入ったリストを保存する\",\n",
    "            \"parameters\": {\n",
    "                \"type\": \"object\",\n",
    "                \"properties\": {\n",
    "                    \"questions\": {\n",
    "                        \"type\": \"array\",\n",
    "                        \"items\": {\"type\": \"string\"},\n",
    "                        \"description\": \"配列の要素数は10個であること。出力形式は右記の通り。['que1','que2','que3','que4','que5','que6','que7','que8','que9','que10']\",\n",
    "                    },\n",
    "                },\n",
    "            },\n",
    "            \"required\": [\"questions\"],\n",
    "        },\n",
    "    },{\n",
    "        \"type\": \"function\",\n",
    "        \"function\": {\n",
    "            \"name\": \"aug_answers\",\n",
    "            \"description\": \"拡張生成した10個のAnswerが入ったリストを保存する\",\n",
    "            \"parameters\": {\n",
    "                \"type\": \"object\",\n",
    "                \"properties\": {\n",
    "                    \"answers\": {\n",
    "                        \"type\": \"array\",\n",
    "                        \"items\": {\"type\": \"string\"},\n",
    "                        \"description\": \"配列の要素数は10個であること。出力形式は右記の通り。['ans1','ans2','ans3','ans4','ans5','ans6','ans7','ans8','ans9','ans10']\",\n",
    "                    },\n",
    "                },\n",
    "            },\n",
    "            \"required\": [\"answers\"],\n",
    "        },\n",
    "    }\n",
    "]"
   ]
  },
  {
   "cell_type": "markdown",
   "id": "0d0df4d7-e194-4582-87d2-d4daba49d6fd",
   "metadata": {
    "tags": []
   },
   "source": [
    "# 入力データ作成"
   ]
  },
  {
   "cell_type": "markdown",
   "id": "3fb5d836-da77-4803-8248-494fa8875d0d",
   "metadata": {
    "tags": []
   },
   "source": [
    "## データの前処理"
   ]
  },
  {
   "cell_type": "markdown",
   "id": "b1a5b1f3-c5df-47ea-824b-cc29c3b368a7",
   "metadata": {
    "tags": []
   },
   "source": [
    "### PDF 分割"
   ]
  },
  {
   "cell_type": "code",
   "execution_count": null,
   "id": "c38b5894-f799-4524-819a-a9b4f8ae695a",
   "metadata": {},
   "outputs": [],
   "source": [
    "split_pdf(\"dummy.pdf\")"
   ]
  },
  {
   "cell_type": "markdown",
   "id": "ac84e7e5-b3a2-4eec-8ebc-3cdfe0d1042d",
   "metadata": {
    "tags": []
   },
   "source": [
    "# Q拡張"
   ]
  },
  {
   "cell_type": "markdown",
   "id": "eacbc60a-31c5-4e8e-8963-183fa76bd183",
   "metadata": {
    "tags": []
   },
   "source": [
    "## リクエストデータの整形"
   ]
  },
  {
   "cell_type": "code",
   "execution_count": null,
   "id": "335a454c-57a1-49c2-8d17-0cac272a3922",
   "metadata": {},
   "outputs": [],
   "source": [
    "company = \"dummy\"\n",
    "examples = make_examples(target_company=company)"
   ]
  },
  {
   "cell_type": "code",
   "execution_count": null,
   "id": "2c7d38a3-cf4b-4306-831e-bdbe950c733b",
   "metadata": {},
   "outputs": [],
   "source": [
    "examples[0]"
   ]
  },
  {
   "cell_type": "code",
   "execution_count": null,
   "id": "48a19e84-2d4b-4699-88dc-760cff5f4fdd",
   "metadata": {},
   "outputs": [],
   "source": [
    "len(examples)"
   ]
  },
  {
   "cell_type": "markdown",
   "id": "19a69039-bf1e-4b26-b6e9-3a66b7675b43",
   "metadata": {
    "tags": []
   },
   "source": [
    "## リクエスト"
   ]
  },
  {
   "cell_type": "markdown",
   "id": "74a5c4af-d896-42bd-9a02-3b12f751c138",
   "metadata": {
    "tags": []
   },
   "source": [
    "### 20240125"
   ]
  },
  {
   "cell_type": "code",
   "execution_count": null,
   "id": "68407dcc-cf2c-40b8-9a72-7b0a80518db3",
   "metadata": {},
   "outputs": [],
   "source": [
    "prompt = \"\"\"【関数呼出】\n",
    "### ロール\n",
    "あなたは車のオーナーとしてロールプレイしてください。\n",
    "\n",
    "### メインタスク\n",
    "あなたは車に関して気になる質問があり、それらをリストとして保存する必要があります。\n",
    "与えられたマニュアル「入力」に記載された内容に基づいて、質問を10個日本語で作成してください。\n",
    "\n",
    "ただし質問作成にあたって絶対に以下の「制約条件」に従いなさい。\n",
    "\n",
    "### 制約条件\n",
    "- 使用言語は日本語です。それ以外の言語で出力してはいけません。\n",
    "- 各質問対象となる装置名や操作方法は原則異なるものを対象にしてください。もし同一のものである場合、文章表現を大きく変えてください。\n",
    "- 質問は絶対に「入力」から一意的に具体的な回答ができるシンプルなもので、1質問毎に1つだけ質問を生成しなさい。下記の「回答根拠、質問」を参考にしてください。\n",
    "    例)回答根拠：Aという部品を取り外すときは、まずノブを右に回してください。そのあとに、カチッと音が鳴るまで押し込んで下さい。\n",
    "       質問　　：[\"部品Aを外すときにノブを回す方向は？\",\n",
    "       　　　　　 \"ノブを回して外す部品は？\",\n",
    "       　　　　　 \"Aを外すときに右に回すものは？\",\n",
    "            　　  \"どうなるまで押し込めばいい？\",\n",
    "                  \"押し込んだら何が鳴る？\",\n",
    "                  \"押し込む前に何をする必要がある？\",\n",
    "                  \"どうしてノブを右に回すのですか？\",\n",
    "                  \"カチッと音が鳴るまで押し込む前にすることは？\",\n",
    "                  \"押し込んだらどのような音が鳴る？\",\n",
    "                  \"\"ノブは右にどうすればいい？,]\n",
    "            \n",
    "- 質問の作成において以下の観点に基づいてそれぞれ質問を作成してください。下記のテキストはあくまで一例です。観点（category1:category2）のみ従ってにしてください。\n",
    "    - {perspective_1}\n",
    "    - {perspective_2}\n",
    "    - {perspective_3}\n",
    "    - {perspective_4}\n",
    "    - {perspective_5}\n",
    "    - {perspective_6}\n",
    "    - {perspective_7}\n",
    "    - {perspective_8}\n",
    "    - {perspective_9}\n",
    "    - {perspective_10}\n",
    "\n",
    "- 「入力」のマニュアルから回答ができない質問は一切生成しないで下さい。\n",
    "- 出力フォーマットはリストの要素ごとに簡潔な質問一文とし、不要な情報は一切出力してはいけません。\n",
    "- 使用言語は日本語です。それ以外の言語で出力してはいけません。\n",
    "\n",
    "### 入力\n",
    "{manual}\n",
    "\n",
    "### 出力\n",
    "\"\"\""
   ]
  },
  {
   "cell_type": "markdown",
   "id": "63c82d0f-3c17-4305-86b8-668302330e3e",
   "metadata": {
    "tags": []
   },
   "source": [
    "## APIリクエスト並列実行"
   ]
  },
  {
   "cell_type": "code",
   "execution_count": null,
   "id": "0808ab71-42b4-4e2b-ad6a-92a6157c3a42",
   "metadata": {},
   "outputs": [],
   "source": [
    "target_data = examples"
   ]
  },
  {
   "cell_type": "code",
   "execution_count": null,
   "id": "61c1fcbb-0ed0-464d-8ea4-6e44037c2de3",
   "metadata": {},
   "outputs": [],
   "source": [
    "aug_questions, index, _ = multiRequestProcAOAI_FC(\"questions\", prompt, TOOLS, target_data)"
   ]
  },
  {
   "cell_type": "code",
   "execution_count": null,
   "id": "ea0a30c4-aa4c-4940-a4c1-57da5de06450",
   "metadata": {},
   "outputs": [],
   "source": [
    "print(len(aug_questions))\n",
    "print(len(index))"
   ]
  },
  {
   "cell_type": "code",
   "execution_count": null,
   "id": "89a7f68e-a585-44ef-bf77-7f4399c1b946",
   "metadata": {},
   "outputs": [],
   "source": [
    "aug_questions"
   ]
  },
  {
   "cell_type": "code",
   "execution_count": null,
   "id": "e279dd3c-fe22-4601-92fd-670d7f91590d",
   "metadata": {},
   "outputs": [],
   "source": [
    "type(index)"
   ]
  },
  {
   "cell_type": "code",
   "execution_count": null,
   "id": "d8cb3855-3cf4-4418-8780-a3c1df3eea41",
   "metadata": {},
   "outputs": [],
   "source": [
    "flattened_questions = []\n",
    "indices = []\n",
    "\n",
    "# for i,item in enumerate(aug_questions):\n",
    "#     if type(item) == list:\n",
    "#         for q in item:\n",
    "#             flattened_questions.append(q)\n",
    "#             indices.append(index[i])\n",
    "#     else:\n",
    "#         flattened_questions.append(item)\n",
    "#         indices.append(index[i])\n",
    "\n",
    "for i,item in enumerate(aug_questions):\n",
    "    if type(item) == list:\n",
    "        if len(item) != 10:\n",
    "            print(\"not10->\", i)\n",
    "            continue\n",
    "        \n",
    "        else:\n",
    "            for q in item:\n",
    "                flattened_questions.append(q)\n",
    "                indices.append(index[i])"
   ]
  },
  {
   "cell_type": "code",
   "execution_count": null,
   "id": "b40af7d4-4d47-41a9-bf4c-fff8da7ba7c9",
   "metadata": {},
   "outputs": [],
   "source": [
    "print(len(flattened_questions))\n",
    "print(len(indices))"
   ]
  },
  {
   "cell_type": "code",
   "execution_count": null,
   "id": "2fe59ead-91c7-4be7-b936-fcc023fbbe03",
   "metadata": {},
   "outputs": [],
   "source": [
    "import pandas as pd\n",
    "\n",
    "df = pd.DataFrame({\"questions\": flattened_questions, \n",
    "                   \"index\": indices})\n",
    "\n",
    "# CSVファイルに書き出し\n",
    "df.to_csv(f'output/{company}_questions.csv', index=False, sep=\"\\t\")"
   ]
  },
  {
   "cell_type": "markdown",
   "id": "e89f86c3-dbfd-43a4-8171-56763adf47b7",
   "metadata": {
    "tags": []
   },
   "source": [
    "# A拡張"
   ]
  },
  {
   "cell_type": "markdown",
   "id": "44ebe5ff-0941-4c9e-be28-37c6830e6abf",
   "metadata": {},
   "source": [
    "## データ整形"
   ]
  },
  {
   "cell_type": "code",
   "execution_count": null,
   "id": "5634c5fc-5f94-48e6-9286-7f6377f90dc4",
   "metadata": {},
   "outputs": [],
   "source": [
    "examples = make_examples(target_company=company, aug_q=False, target_qfile=f\"{company}_questions\", key_name=\"questions\")"
   ]
  },
  {
   "cell_type": "code",
   "execution_count": null,
   "id": "c41bee02-bb39-406a-90d5-598ee6225825",
   "metadata": {},
   "outputs": [],
   "source": [
    "len(examples)"
   ]
  },
  {
   "cell_type": "code",
   "execution_count": null,
   "id": "7ed0b4a8-bd08-4318-a12b-d5f5f8eb509e",
   "metadata": {},
   "outputs": [],
   "source": [
    "examples[0]"
   ]
  },
  {
   "cell_type": "markdown",
   "id": "71e35d6d-0097-4e85-830d-94bfc8dba5de",
   "metadata": {
    "tags": []
   },
   "source": [
    "## リクエスト"
   ]
  },
  {
   "cell_type": "code",
   "execution_count": null,
   "id": "8ab0335e-1034-4539-8776-48c9b5435c68",
   "metadata": {},
   "outputs": [],
   "source": [
    "prompt = \"\"\"【関数呼出】\n",
    "### ロール\n",
    "あなたは車のディーラーとしてロールプレイしてください。\n",
    "\n",
    "### メインタスク\n",
    "あなたはある車のオーナーから10個の質問を与えられました。それらへの回答を作成し、リストとして保存する必要があります。\n",
    "与えられた「入力_マニュアル」の内容に基づいて、「入力_質問」への回答を10個それぞれ日本語で作成してください。\n",
    "\n",
    "ただし、回答生成にあたって絶対に以下の「制約条件」に従いなさい。\n",
    "\n",
    "### 制約条件\n",
    "- 出力フォーマットはリストの要素ごとに簡潔な回答一文とし、不要な改行やタブのみや意味のないテキストなど回答に不要な情報は一切出力してはいけません。\n",
    "- 回答が同一の出力にならないようにして下さい。同じ回答になる場合は、表現を変えてください。\n",
    "- 使用言語は日本語です。それ以外の言語で出力してはいけません。\n",
    "- step by stepで考えてください。\n",
    "    1.「入力_マニュアル」から回答に必要な箇所を抜き出してください。\n",
    "        - 下記の「回答」を参考にしてください。\n",
    "        例)マニュアル：\"Aという部品を取り外すときは、まずノブを右に回してください。そのあとに、カチッと音が鳴るまで押し込んで下さい。\",\n",
    "        例)抜出　　　：\"まずノブを右に回してください\",\n",
    "        \n",
    "    2.質問の意図に即して回答を生成して下さい。\n",
    "        例)質問　　　：\"部品Aを外すときにノブを回す方向は？\",\n",
    "        例)抜出　　　：\"まずノブを右に回してください\",\n",
    "        例)回答　　　：\"右です。\n",
    "        \n",
    "- 「入力」のマニュアルから具体的かつ簡潔な回答ができない場合、その旨を伝えてください。その際断りの表現は質問毎に個別に変えてランダムにしてください。\n",
    "\n",
    "\n",
    "### 入力_マニュアル\n",
    "{manual}\n",
    "\n",
    "### 入力_質問\n",
    "    [\"1.{questions_1}\",\n",
    "     \"2.{questions_2}\",\n",
    "     \"3.{questions_3}\",\n",
    "     \"4.{questions_4}\",\n",
    "     \"5.{questions_5}\",\n",
    "     \"6.{questions_6}\",\n",
    "     \"7.{questions_7}\",\n",
    "     \"8.{questions_8}\",\n",
    "     \"9.{questions_9}\",\n",
    "     \"10.{questions_10}\"]\n",
    "\n",
    "### 出力\n",
    "\"\"\""
   ]
  },
  {
   "cell_type": "code",
   "execution_count": null,
   "id": "d4d52199-f5ef-4769-b0d8-be50861c16fc",
   "metadata": {},
   "outputs": [],
   "source": [
    "target_data = examples"
   ]
  },
  {
   "cell_type": "code",
   "execution_count": null,
   "id": "097f122b-45c6-46be-96bd-993e3dd0a536",
   "metadata": {},
   "outputs": [],
   "source": [
    "len(target_data)"
   ]
  },
  {
   "cell_type": "code",
   "execution_count": null,
   "id": "84c5f6f6-9754-45d6-b3b6-532bf28fc1c5",
   "metadata": {},
   "outputs": [],
   "source": [
    "target_data[-1]"
   ]
  },
  {
   "cell_type": "code",
   "execution_count": null,
   "id": "ec43baf8-cc82-45d1-9b96-0c7eda7aebff",
   "metadata": {},
   "outputs": [],
   "source": [
    "aug_answers, index, input_examples = multiRequestProcAOAI_FC(\"answers\", prompt, TOOLS, target_data)"
   ]
  },
  {
   "cell_type": "code",
   "execution_count": null,
   "id": "ddaa133c-1367-4cf8-9ab3-1ec353e751a0",
   "metadata": {},
   "outputs": [],
   "source": [
    "len(aug_answers)"
   ]
  },
  {
   "cell_type": "code",
   "execution_count": null,
   "id": "84317902-3e76-4265-bdf6-8bd8b4a58e91",
   "metadata": {},
   "outputs": [],
   "source": [
    "input_examples[1]"
   ]
  },
  {
   "cell_type": "code",
   "execution_count": null,
   "id": "d97087c8-1db4-492d-a6c4-f88166d47e01",
   "metadata": {},
   "outputs": [],
   "source": [
    "flattened_answers = []\n",
    "flattened_questions = []\n",
    "flattened_manuals = []\n",
    "\n",
    "for i, (a_item, q_item) in enumerate(zip(aug_answers, input_examples)):\n",
    "    if type(a_item) == list and len(a_item) == 10:\n",
    "        for item_index, ans in enumerate(a_item):\n",
    "            q_index = item_index + 1\n",
    "            \n",
    "            flattened_questions.append(q_item[f\"questions_{q_index}\"])\n",
    "            flattened_manuals.append(q_item[\"manual\"])\n",
    "            flattened_answers.append(ans)       "
   ]
  },
  {
   "cell_type": "code",
   "execution_count": null,
   "id": "dbe47393-ece6-4b0f-a757-819af353eebc",
   "metadata": {},
   "outputs": [],
   "source": [
    "print(len(flattened_answers))\n",
    "print(len(flattened_questions))\n",
    "print(len(flattened_manuals))"
   ]
  },
  {
   "cell_type": "code",
   "execution_count": null,
   "id": "6276d740-20fb-48d1-92c6-49b51ac86b41",
   "metadata": {},
   "outputs": [],
   "source": [
    "i=0\n",
    "\n",
    "print(flattened_questions[i])\n",
    "print(flattened_manuals[i])\n",
    "print(flattened_answers[i])"
   ]
  },
  {
   "cell_type": "code",
   "execution_count": null,
   "id": "8583793e-3a61-47ea-a4b8-04f71cd6b9a5",
   "metadata": {},
   "outputs": [],
   "source": [
    "import pandas as pd\n",
    "\n",
    "df = pd.DataFrame(\n",
    "    {\"instruct\": flattened_questions,\n",
    "     \"input\": flattened_manuals,\n",
    "     \"output\": flattened_answers\n",
    "    }\n",
    ")\n",
    "\n",
    "# CSVファイルに書き出し\n",
    "df.to_csv(f'output/{company}_alldata_pov.csv', index=False, sep=\"\\t\")"
   ]
  },
  {
   "cell_type": "markdown",
   "id": "73d757a7-88dd-453c-8112-288962a74d07",
   "metadata": {},
   "source": [
    "# LLM学習データ準備"
   ]
  },
  {
   "cell_type": "code",
   "execution_count": null,
   "id": "f38afb1f-f6f2-4179-a6eb-b633297c7a01",
   "metadata": {},
   "outputs": [],
   "source": [
    "import pandas as pd\n",
    "\n",
    "df = pd.read_csv(f\"output/{company}_alldata_pov.csv\", sep=\"\\t\")"
   ]
  },
  {
   "cell_type": "code",
   "execution_count": null,
   "id": "9a6a5631-a58f-464b-ba18-7724f98415ea",
   "metadata": {},
   "outputs": [],
   "source": [
    "from sklearn.model_selection import train_test_split\n",
    "\n",
    "train_df, valid_df = train_test_split(df, train_size=2000)\n",
    "\n",
    "train_df.to_csv('output/train_data.csv', index=False)\n",
    "valid_df.to_csv('output/valid_data.csv', index=False)"
   ]
  },
  {
   "cell_type": "code",
   "execution_count": null,
   "id": "8173fc51-96dc-4d4d-a71d-cd34ef3ff111",
   "metadata": {},
   "outputs": [],
   "source": [
    "print(len(train_df))\n",
    "print(len(valid_df))"
   ]
  }
 ],
 "metadata": {
  "kernelspec": {
   "display_name": "Python 3.8 - AzureML",
   "language": "python",
   "name": "python38-azureml"
  },
  "language_info": {
   "codemirror_mode": {
    "name": "ipython",
    "version": 3
   },
   "file_extension": ".py",
   "mimetype": "text/x-python",
   "name": "python",
   "nbconvert_exporter": "python",
   "pygments_lexer": "ipython3",
   "version": "3.9.19"
  }
 },
 "nbformat": 4,
 "nbformat_minor": 5
}
